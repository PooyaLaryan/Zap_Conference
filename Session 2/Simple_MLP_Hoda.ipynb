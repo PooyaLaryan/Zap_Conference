{
 "cells": [
  {
   "cell_type": "code",
   "execution_count": null,
   "id": "0c722273-dd1f-4e65-bceb-0500adbf3eca",
   "metadata": {
    "scrolled": true
   },
   "outputs": [],
   "source": [
    "from tensorflow import keras\n",
    "from keras.models import Sequential\n",
    "from keras.layers import Dense\n",
    "import numpy as np\n",
    "\n",
    "from dataset import load_hoda"
   ]
  },
  {
   "cell_type": "code",
   "execution_count": null,
   "id": "fb3126da-c8d6-497c-bd53-65a36b15d96b",
   "metadata": {},
   "outputs": [],
   "source": [
    "x_train_original, y_train_original, x_test_original, y_test_original = load_hoda()"
   ]
  },
  {
   "cell_type": "code",
   "execution_count": null,
   "id": "302e4ae3-85c3-463f-9a0b-d19cba90324a",
   "metadata": {},
   "outputs": [],
   "source": [
    "x_train_original[0]"
   ]
  },
  {
   "cell_type": "code",
   "execution_count": null,
   "id": "89610a74-f9cf-4f1d-89d7-be431dbe8296",
   "metadata": {},
   "outputs": [],
   "source": [
    "y_train_original[:5]"
   ]
  },
  {
   "cell_type": "code",
   "execution_count": null,
   "id": "b5ccf61e-1c4f-4edc-a082-97f2d8e54ac1",
   "metadata": {},
   "outputs": [],
   "source": [
    "# Preprocess input data for Keras. \n",
    "y_train = keras.utils.to_categorical(y_train_original, num_classes=10)\n",
    "y_test = keras.utils.to_categorical(y_test_original, num_classes=10)"
   ]
  },
  {
   "cell_type": "code",
   "execution_count": null,
   "id": "cb7ef182-05f0-4af5-9a94-7d49452090db",
   "metadata": {},
   "outputs": [],
   "source": [
    "y_train[:5]"
   ]
  },
  {
   "cell_type": "code",
   "execution_count": null,
   "id": "3f4df1e7-b014-4afb-8120-ac319aae02e4",
   "metadata": {},
   "outputs": [],
   "source": [
    "x_train = x_train_original.astype('float32')\n",
    "x_test = x_test_original.astype('float32')\n",
    "x_train /= 255\n",
    "x_test /= 255"
   ]
  },
  {
   "cell_type": "code",
   "execution_count": null,
   "id": "ebf2f159-bcd3-4f5b-aabb-bd0237baa4d1",
   "metadata": {},
   "outputs": [],
   "source": [
    "x_train[0]"
   ]
  },
  {
   "cell_type": "code",
   "execution_count": null,
   "id": "7102e4a2-6ecf-4c04-9e06-e65571a53076",
   "metadata": {},
   "outputs": [],
   "source": [
    "model = Sequential()\n",
    "model.add(Dense(64, activation='relu', input_dim=25))\n",
    "model.add(Dense(10, activation='softmax'))"
   ]
  },
  {
   "cell_type": "code",
   "execution_count": null,
   "id": "0a6671af-14cb-4b0b-bc8f-3d7729130e05",
   "metadata": {},
   "outputs": [],
   "source": [
    "model.summary()"
   ]
  },
  {
   "cell_type": "code",
   "execution_count": null,
   "id": "8736dd1e-d537-488f-8be0-18f9fdb4983c",
   "metadata": {},
   "outputs": [],
   "source": [
    "model.compile(loss='categorical_crossentropy',\n",
    "              optimizer='rmsprop',\n",
    "              metrics=['accuracy'])"
   ]
  },
  {
   "cell_type": "code",
   "execution_count": null,
   "id": "2a44105f-7e5a-4a57-afe2-baa40806f13c",
   "metadata": {},
   "outputs": [],
   "source": [
    "history = model.fit(x_train, y_train,\n",
    "          epochs=100,\n",
    "          batch_size=64, validation_split=0.2)"
   ]
  },
  {
   "cell_type": "code",
   "execution_count": null,
   "id": "1f44ec1d-b61d-4f00-9eaa-a500c6a949d6",
   "metadata": {},
   "outputs": [],
   "source": [
    "history.history.keys()"
   ]
  },
  {
   "cell_type": "code",
   "execution_count": null,
   "id": "05956e4f-0bcd-4370-9612-85fa99bfa55f",
   "metadata": {},
   "outputs": [],
   "source": [
    "import matplotlib.pyplot as plt"
   ]
  },
  {
   "cell_type": "code",
   "execution_count": null,
   "id": "dcee58db-85f6-4d5f-a32f-23230785beb3",
   "metadata": {},
   "outputs": [],
   "source": [
    "plt.plot(history.history['val_accuracy'])\n",
    "plt.plot(history.history['accuracy'])\n",
    "plt.legend(['val', 'train'])"
   ]
  },
  {
   "cell_type": "code",
   "execution_count": null,
   "id": "1e84782c-0327-4218-b436-eb00fb7167e0",
   "metadata": {},
   "outputs": [],
   "source": [
    "plt.plot(history.history['val_loss'])\n",
    "plt.plot(history.history['loss'])\n",
    "plt.legend(['val', 'train'])"
   ]
  },
  {
   "cell_type": "code",
   "execution_count": null,
   "id": "fc08681f-050e-4b84-baf7-7781701d7b63",
   "metadata": {},
   "outputs": [],
   "source": [
    "loss, acc = model.evaluate(x_test, y_test)\n",
    "print('\\nTesting loss: %.2f, acc: %.2f%%'%(loss, acc))"
   ]
  },
  {
   "cell_type": "code",
   "execution_count": null,
   "id": "310f679c-15b0-42f9-9d60-0b2df8ced8b3",
   "metadata": {},
   "outputs": [],
   "source": [
    "model.predict(x_test)[0]"
   ]
  },
  {
   "cell_type": "code",
   "execution_count": null,
   "id": "7bb3a505-2ef8-49c9-868f-0e1690a56b79",
   "metadata": {},
   "outputs": [],
   "source": [
    "model.predict(x_test)[0].max()"
   ]
  },
  {
   "cell_type": "code",
   "execution_count": null,
   "id": "7708642d-a480-4327-8cad-9c95a1585c3e",
   "metadata": {},
   "outputs": [],
   "source": [
    "model.predict(x_test)[0].argmax()"
   ]
  },
  {
   "cell_type": "code",
   "execution_count": null,
   "id": "c5d004b0-65c3-4bd0-bc3a-90ef715da0c2",
   "metadata": {},
   "outputs": [],
   "source": [
    "y_test[0]"
   ]
  },
  {
   "cell_type": "code",
   "execution_count": null,
   "id": "8ef6718b-6baf-42ec-93e4-2eb4ad5ca00c",
   "metadata": {},
   "outputs": [],
   "source": [
    "plt.imshow(x_test[0].reshape(5,5), cmap='gray')"
   ]
  },
  {
   "cell_type": "code",
   "execution_count": null,
   "id": "9856a79d-ae95-4550-86ce-c2d7107df950",
   "metadata": {},
   "outputs": [],
   "source": [
    "model.predict(x_test).argmax(axis = 1) == y_test.argmax(axis = 1)"
   ]
  },
  {
   "cell_type": "code",
   "execution_count": null,
   "id": "ec6e47ac-434f-4a06-be16-77406ed0a43b",
   "metadata": {},
   "outputs": [],
   "source": [
    "predicted_classes = model.predict(x_test).argmax(axis = 1)"
   ]
  },
  {
   "cell_type": "code",
   "execution_count": null,
   "id": "2c258b7e-3138-45f6-9b9a-74040f842d91",
   "metadata": {},
   "outputs": [],
   "source": [
    "from sklearn.metrics import confusion_matrix\n",
    "plt.matshow(confusion_matrix(y_test_original, predicted_classes), cmap=\"Blues\")\n",
    "plt.xticks(range(10))\n",
    "plt.yticks(range(10))\n",
    "plt.xlabel(\"Predicted label\")\n",
    "plt.ylabel(\"True label\");"
   ]
  },
  {
   "cell_type": "code",
   "execution_count": null,
   "id": "1728c49a-07b2-41eb-a73f-82ec218734bb",
   "metadata": {},
   "outputs": [],
   "source": []
  }
 ],
 "metadata": {
  "kernelspec": {
   "display_name": "v1",
   "language": "python",
   "name": "v1"
  },
  "language_info": {
   "codemirror_mode": {
    "name": "ipython",
    "version": 3
   },
   "file_extension": ".py",
   "mimetype": "text/x-python",
   "name": "python",
   "nbconvert_exporter": "python",
   "pygments_lexer": "ipython3",
   "version": "3.12.4"
  }
 },
 "nbformat": 4,
 "nbformat_minor": 5
}
