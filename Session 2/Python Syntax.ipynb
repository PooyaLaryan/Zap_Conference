{
 "cells": [
  {
   "cell_type": "markdown",
   "id": "95469144-6dcc-4305-9644-f8e1a0b9623e",
   "metadata": {},
   "source": [
    "# Syntax"
   ]
  },
  {
   "cell_type": "code",
   "execution_count": null,
   "id": "7587ce63-6b67-4eaf-b1be-5f18e6ace1cf",
   "metadata": {},
   "outputs": [],
   "source": [
    "x = 12\n",
    "y = 13\n",
    "if x > y :\n",
    "    print(\"x is begger that y\")\n",
    "else:\n",
    "    print('x is less than y')"
   ]
  },
  {
   "cell_type": "code",
   "execution_count": null,
   "id": "2053cf84-5d72-4564-91e2-0b88a9029fa3",
   "metadata": {},
   "outputs": [],
   "source": [
    "x = input(\"enter x:\")\n"
   ]
  },
  {
   "cell_type": "code",
   "execution_count": null,
   "id": "b7ce3465-1271-4071-b5e4-848495dbe212",
   "metadata": {},
   "outputs": [],
   "source": [
    "type(x)"
   ]
  },
  {
   "cell_type": "code",
   "execution_count": null,
   "id": "15312178-23c4-43a5-8e62-86206ef61e3e",
   "metadata": {},
   "outputs": [],
   "source": [
    "if int(x) > 0 :\n",
    "    print(\"Even\")\n",
    "else:\n",
    "    print(\"odd\")"
   ]
  },
  {
   "cell_type": "code",
   "execution_count": null,
   "id": "793c7613-fcfb-40b6-aac5-e9bfe68c91e3",
   "metadata": {},
   "outputs": [],
   "source": [
    "a = 1\n",
    "b = 2\n",
    "c = 3\n",
    "\n",
    "d = b**2 - 4 * a * c\n",
    "if d > 0 : \n",
    "    print(\"2\")\n",
    "elif d == 0:\n",
    "    print(\"1\")\n",
    "else:\n",
    "    print(\"0\")"
   ]
  },
  {
   "cell_type": "code",
   "execution_count": null,
   "id": "ed8fe4dc-e964-4aea-bd35-216887d0877d",
   "metadata": {},
   "outputs": [],
   "source": [
    "for i in range(10):\n",
    "    print(i)"
   ]
  },
  {
   "cell_type": "code",
   "execution_count": null,
   "id": "9e9e81a0-5798-43ea-b4d6-f6b9bd467088",
   "metadata": {},
   "outputs": [],
   "source": [
    "for i in range(2,20,2):\n",
    "    print(i)"
   ]
  },
  {
   "cell_type": "code",
   "execution_count": null,
   "id": "d1fdbbeb-9478-4fd6-a00b-613e12b6e736",
   "metadata": {},
   "outputs": [],
   "source": [
    "a = 0\n",
    "while a<10:\n",
    "    a+=1\n",
    "    print(a)\n"
   ]
  },
  {
   "cell_type": "code",
   "execution_count": null,
   "id": "9c6bc984-0a52-4241-9274-455d2596bbde",
   "metadata": {},
   "outputs": [],
   "source": [
    "2**4"
   ]
  },
  {
   "cell_type": "code",
   "execution_count": 16,
   "id": "3eae9992-b18c-44c6-af6e-821cde64d263",
   "metadata": {},
   "outputs": [
    {
     "data": {
      "text/plain": [
       "1"
      ]
     },
     "execution_count": 16,
     "metadata": {},
     "output_type": "execute_result"
    }
   ],
   "source": [
    "5%2"
   ]
  },
  {
   "cell_type": "code",
   "execution_count": 17,
   "id": "c2a07a06-5a69-4b1d-a814-876700004cd9",
   "metadata": {},
   "outputs": [
    {
     "data": {
      "text/plain": [
       "2.5"
      ]
     },
     "execution_count": 17,
     "metadata": {},
     "output_type": "execute_result"
    }
   ],
   "source": [
    "5/2"
   ]
  },
  {
   "cell_type": "code",
   "execution_count": 18,
   "id": "2671002b-0897-45e2-a741-d5858310e37f",
   "metadata": {},
   "outputs": [
    {
     "data": {
      "text/plain": [
       "6"
      ]
     },
     "execution_count": 18,
     "metadata": {},
     "output_type": "execute_result"
    }
   ],
   "source": [
    "2*3"
   ]
  },
  {
   "cell_type": "code",
   "execution_count": 19,
   "id": "af817ee3-c923-41f6-b7da-8dd3018f8f19",
   "metadata": {},
   "outputs": [
    {
     "data": {
      "text/plain": [
       "5"
      ]
     },
     "execution_count": 19,
     "metadata": {},
     "output_type": "execute_result"
    }
   ],
   "source": [
    "2+3"
   ]
  },
  {
   "cell_type": "code",
   "execution_count": 20,
   "id": "6c7e07fa-99f0-4d4c-8658-b9b6b8c12840",
   "metadata": {},
   "outputs": [
    {
     "data": {
      "text/plain": [
       "-1"
      ]
     },
     "execution_count": 20,
     "metadata": {},
     "output_type": "execute_result"
    }
   ],
   "source": [
    "2-3"
   ]
  },
  {
   "cell_type": "code",
   "execution_count": 21,
   "id": "85639b07-1b62-4df7-ae47-97d4757b681b",
   "metadata": {},
   "outputs": [
    {
     "data": {
      "text/plain": [
       "True"
      ]
     },
     "execution_count": 21,
     "metadata": {},
     "output_type": "execute_result"
    }
   ],
   "source": [
    "10 == 10"
   ]
  },
  {
   "cell_type": "code",
   "execution_count": 23,
   "id": "208d9344-5f6b-43ce-9a6c-ead97140a78d",
   "metadata": {},
   "outputs": [
    {
     "data": {
      "text/plain": [
       "False"
      ]
     },
     "execution_count": 23,
     "metadata": {},
     "output_type": "execute_result"
    }
   ],
   "source": [
    "10 != 10"
   ]
  },
  {
   "cell_type": "markdown",
   "id": "b73ad838-3d08-493e-837b-74b369d8926c",
   "metadata": {},
   "source": [
    "# Operation System"
   ]
  },
  {
   "cell_type": "code",
   "execution_count": null,
   "id": "1960caf3-9f7a-4673-b2ea-cf86ee126f37",
   "metadata": {},
   "outputs": [],
   "source": [
    "import os\n",
    "os.listdir()"
   ]
  },
  {
   "cell_type": "code",
   "execution_count": null,
   "id": "a9fc3b9c-9f73-44f9-b8fd-3b5e278a9226",
   "metadata": {},
   "outputs": [],
   "source": [
    "os.curdir"
   ]
  },
  {
   "cell_type": "code",
   "execution_count": null,
   "id": "cd06974b-eebc-485a-94b9-49b256d66464",
   "metadata": {},
   "outputs": [],
   "source": [
    "os.get_exec_path()"
   ]
  },
  {
   "cell_type": "markdown",
   "id": "fe1ef952-b238-440a-ac31-13be3aa688b4",
   "metadata": {},
   "source": [
    "# List - Tuple - Dictionary - Set "
   ]
  },
  {
   "cell_type": "markdown",
   "id": "2677763f-2e11-47df-86a9-a78b83c9f7a1",
   "metadata": {},
   "source": [
    "## 1D List"
   ]
  },
  {
   "cell_type": "code",
   "execution_count": null,
   "id": "39f756c9-11bd-4fc8-aa6e-87496e136d69",
   "metadata": {},
   "outputs": [],
   "source": [
    "list =[1,2,3,4,5,6,7,8,9,10]\n",
    "list"
   ]
  },
  {
   "cell_type": "code",
   "execution_count": null,
   "id": "0b4aa0c1-29af-4273-8065-366ed6941992",
   "metadata": {},
   "outputs": [],
   "source": [
    "list = [1,2.5,\"ali\"]\n",
    "list"
   ]
  },
  {
   "cell_type": "code",
   "execution_count": null,
   "id": "5ff975a0-232b-4193-a7dc-c0ded8c734ff",
   "metadata": {},
   "outputs": [],
   "source": [
    "list =[1,2,3,4,5,6,7,8,9,10,11,12,13,14,15,16,17,18,19,20]"
   ]
  },
  {
   "cell_type": "code",
   "execution_count": null,
   "id": "247a60ce-59e8-4a2a-9173-350f07e83eb3",
   "metadata": {},
   "outputs": [],
   "source": [
    "list[2]"
   ]
  },
  {
   "cell_type": "code",
   "execution_count": null,
   "id": "0088ac38-89ca-4b34-a2ac-079003cd468c",
   "metadata": {},
   "outputs": [],
   "source": [
    "list[:2]"
   ]
  },
  {
   "cell_type": "code",
   "execution_count": null,
   "id": "a9121a1e-2bc0-4794-a062-8edf2a6fb07c",
   "metadata": {},
   "outputs": [],
   "source": [
    "list[3:]"
   ]
  },
  {
   "cell_type": "code",
   "execution_count": null,
   "id": "93fcb203-75c4-4c47-87af-0585fa29148b",
   "metadata": {},
   "outputs": [],
   "source": [
    "list[-1]"
   ]
  },
  {
   "cell_type": "code",
   "execution_count": null,
   "id": "7fe07f9a-8a61-4912-ac46-e318154a6c62",
   "metadata": {},
   "outputs": [],
   "source": [
    "list = [1,2,3]\n",
    "list.append(4)\n",
    "print(list)"
   ]
  },
  {
   "cell_type": "code",
   "execution_count": null,
   "id": "0c6fbb97-cb1f-464b-a728-53871c323b77",
   "metadata": {},
   "outputs": [],
   "source": [
    "list1 = [i for i in range(20)]\n",
    "list1"
   ]
  },
  {
   "cell_type": "code",
   "execution_count": null,
   "id": "7cd9e4e6-6450-45d6-821a-11d332e92dbc",
   "metadata": {},
   "outputs": [],
   "source": [
    "list2 = [0]*5\n",
    "list2"
   ]
  },
  {
   "cell_type": "markdown",
   "id": "2797fea5-4a96-4610-a4bd-4212347e74af",
   "metadata": {},
   "source": [
    "## 2D List"
   ]
  },
  {
   "cell_type": "code",
   "execution_count": 2,
   "id": "06a11438-5f4a-46fa-9ac6-ff9564801cd0",
   "metadata": {},
   "outputs": [
    {
     "data": {
      "text/plain": [
       "[[1, 2, 3], [4, 5, 6], [7, 8, 9], [10, 11, 12], [13, 14, 15]]"
      ]
     },
     "execution_count": 2,
     "metadata": {},
     "output_type": "execute_result"
    }
   ],
   "source": [
    "list2d = [[1,2,3],[4,5,6],[7,8,9],[10,11,12],[13,14,15]]\n",
    "list2d"
   ]
  },
  {
   "cell_type": "code",
   "execution_count": null,
   "id": "69484cbf-fb09-4ed1-8704-297979944592",
   "metadata": {},
   "outputs": [],
   "source": [
    "(rows, cols) = (5,5) \n",
    "arr = [[0]*cols]*rows\n",
    "arr"
   ]
  },
  {
   "cell_type": "code",
   "execution_count": null,
   "id": "51788ce2-8634-4f88-80d4-381d4bc44ac1",
   "metadata": {},
   "outputs": [],
   "source": [
    "(rows, cols) = (10,10) \n",
    "list2d = [[i*j for i in range(1,cols+1)] for j in range(1,rows+1)]\n",
    "list2d"
   ]
  },
  {
   "cell_type": "code",
   "execution_count": 3,
   "id": "6eb7f605-67f3-40f1-b645-76f52ba93953",
   "metadata": {},
   "outputs": [
    {
     "data": {
      "text/plain": [
       "[[4, 5, 6], [7, 8, 9]]"
      ]
     },
     "execution_count": 3,
     "metadata": {},
     "output_type": "execute_result"
    }
   ],
   "source": [
    "list2d[:][1:3]"
   ]
  },
  {
   "cell_type": "code",
   "execution_count": 5,
   "id": "716cbd4c-5111-4b49-bb41-c5de33c1a68b",
   "metadata": {},
   "outputs": [
    {
     "ename": "TypeError",
     "evalue": "list indices must be integers or slices, not tuple",
     "output_type": "error",
     "traceback": [
      "\u001b[1;31m---------------------------------------------------------------------------\u001b[0m",
      "\u001b[1;31mTypeError\u001b[0m                                 Traceback (most recent call last)",
      "Cell \u001b[1;32mIn[5], line 1\u001b[0m\n\u001b[1;32m----> 1\u001b[0m \u001b[43mlist2d\u001b[49m\u001b[43m[\u001b[49m\u001b[38;5;241;43m1\u001b[39;49m\u001b[43m:\u001b[49m\u001b[43m,\u001b[49m\u001b[43m \u001b[49m\u001b[38;5;241;43m1\u001b[39;49m\u001b[43m:\u001b[49m\u001b[43m]\u001b[49m\n",
      "\u001b[1;31mTypeError\u001b[0m: list indices must be integers or slices, not tuple"
     ]
    }
   ],
   "source": [
    "list2d[1:, 1:]"
   ]
  },
  {
   "cell_type": "code",
   "execution_count": null,
   "id": "3c36dc72-f63e-4b0a-8c61-c69a0fb17dfd",
   "metadata": {},
   "outputs": [],
   "source": [
    "list2d[0:2]"
   ]
  },
  {
   "cell_type": "code",
   "execution_count": null,
   "id": "3fff88c0-07d6-4e31-9daa-35908e8bdfaf",
   "metadata": {},
   "outputs": [],
   "source": [
    "# Example 2D array (list of lists)\n",
    "two_d_array = [[1, 2, 3], [4, 5, 6], [7, 8, 9]]\n",
    "\n",
    "# Convert 2D array to a single list\n",
    "flat_list = [item for sublist in two_d_array for item in sublist]\n",
    "\n",
    "print(flat_list)"
   ]
  },
  {
   "cell_type": "markdown",
   "id": "a5047c79-1f0d-4fb1-802a-caf167039f0b",
   "metadata": {},
   "source": [
    "## 3D List"
   ]
  },
  {
   "cell_type": "code",
   "execution_count": null,
   "id": "c101abb5-eac7-4d78-80b0-3df638f88e40",
   "metadata": {},
   "outputs": [],
   "source": [
    "list3d = [[[1,2,3],[4,5,6]],[[7,8,9],[10,11,12]]]\n",
    "list3d"
   ]
  },
  {
   "cell_type": "code",
   "execution_count": null,
   "id": "6b5db0c4-0089-4ba2-8666-d8858d3dc9af",
   "metadata": {},
   "outputs": [],
   "source": [
    "list3d[1][:][:]"
   ]
  },
  {
   "cell_type": "markdown",
   "id": "99b7ee20-c2e5-4cb0-a7e4-6f635b6b0773",
   "metadata": {},
   "source": [
    "# Zip"
   ]
  },
  {
   "cell_type": "code",
   "execution_count": 7,
   "id": "6c15e7f3-ad50-4a80-b494-29e4d813639a",
   "metadata": {},
   "outputs": [
    {
     "name": "stdout",
     "output_type": "stream",
     "text": [
      "((1, 3), (2, 4))\n"
     ]
    }
   ],
   "source": [
    "a = [1,2]\n",
    "b = [3,4,5]\n",
    "c = zip(a,b)\n",
    "print(tuple(c))"
   ]
  },
  {
   "cell_type": "markdown",
   "id": "650f6e6d-d9ec-4a2b-8b3c-031f77ba2d64",
   "metadata": {},
   "source": [
    "# tuple"
   ]
  },
  {
   "cell_type": "code",
   "execution_count": null,
   "id": "ee732a8c-40b9-44c0-969a-8e6bf5f32d62",
   "metadata": {},
   "outputs": [],
   "source": [
    "# tuple \n",
    "t = (10,20,30)\n",
    "t"
   ]
  },
  {
   "cell_type": "code",
   "execution_count": null,
   "id": "4799b36f-a79a-4d0e-8b06-fb833c435c51",
   "metadata": {},
   "outputs": [],
   "source": [
    "t[-1]"
   ]
  },
  {
   "cell_type": "markdown",
   "id": "54ec5d44-6bb4-419b-961b-fc24a06f4c40",
   "metadata": {},
   "source": [
    "### tuple is immutable "
   ]
  },
  {
   "cell_type": "code",
   "execution_count": 27,
   "id": "739243fd-ac64-4cae-bffa-c3e868a5349e",
   "metadata": {},
   "outputs": [
    {
     "ename": "NameError",
     "evalue": "name 't' is not defined",
     "output_type": "error",
     "traceback": [
      "\u001b[1;31m---------------------------------------------------------------------------\u001b[0m",
      "\u001b[1;31mNameError\u001b[0m                                 Traceback (most recent call last)",
      "Cell \u001b[1;32mIn[27], line 1\u001b[0m\n\u001b[1;32m----> 1\u001b[0m \u001b[43mt\u001b[49m[\u001b[38;5;241m0\u001b[39m] \u001b[38;5;241m=\u001b[39m \u001b[38;5;241m11\u001b[39m\n",
      "\u001b[1;31mNameError\u001b[0m: name 't' is not defined"
     ]
    }
   ],
   "source": [
    "t[0] = 11"
   ]
  },
  {
   "cell_type": "markdown",
   "id": "d1031ac1-6e11-4e38-b34a-0f90be2ce21a",
   "metadata": {},
   "source": [
    "# function"
   ]
  },
  {
   "cell_type": "code",
   "execution_count": null,
   "id": "588f464c-ce74-432b-a7df-7bb8fd04967e",
   "metadata": {},
   "outputs": [],
   "source": [
    "def my_function(a):\n",
    "    return a**a\n",
    "\n",
    "my_function(2)"
   ]
  },
  {
   "cell_type": "code",
   "execution_count": null,
   "id": "1be9a64d-d14c-4a79-a3c5-6accc05cee96",
   "metadata": {},
   "outputs": [],
   "source": [
    "def my_procedure(name):\n",
    "    print(name)\n",
    "\n",
    "my_procedure('Pouya')"
   ]
  },
  {
   "cell_type": "markdown",
   "id": "9f330bf4-fc03-4458-92ce-ee0e225e3d53",
   "metadata": {},
   "source": [
    "# negative index"
   ]
  },
  {
   "cell_type": "code",
   "execution_count": null,
   "id": "eae4a350-ebb2-4f93-b645-a929168c68d0",
   "metadata": {},
   "outputs": [],
   "source": [
    "a = [1,2,3,4,5,6]\n",
    "print(a[-1])\n",
    "print(a[-2])\n",
    "print(a[-4])"
   ]
  },
  {
   "cell_type": "markdown",
   "id": "be5ce6c3-5243-4ab2-9bf2-4ba377b22edb",
   "metadata": {},
   "source": [
    "# Next"
   ]
  },
  {
   "cell_type": "code",
   "execution_count": null,
   "id": "0e29450e-077d-4f08-a15b-137d8da17761",
   "metadata": {},
   "outputs": [],
   "source": [
    "a = [1,2,3,4,5,6]\n",
    "c = iter(a)\n",
    "\n",
    "print(next(c))\n",
    "print(next(c))\n",
    "print(next(c))"
   ]
  },
  {
   "cell_type": "markdown",
   "id": "905114de-1d6d-435d-bfa8-d4237581072d",
   "metadata": {},
   "source": [
    "# Dictionary"
   ]
  },
  {
   "cell_type": "code",
   "execution_count": null,
   "id": "ce55a6a3-2563-4669-9ca9-046505e940e6",
   "metadata": {},
   "outputs": [],
   "source": [
    "a = {\"k1\":1,\"k2\":2,\"k3\":3,\"k4\":4,\"k5\":5}\n",
    "print(type(a))\n",
    "print(a)"
   ]
  },
  {
   "cell_type": "code",
   "execution_count": null,
   "id": "2789b833-a7b3-458c-a07c-181c31edeb2f",
   "metadata": {},
   "outputs": [],
   "source": [
    "a['k2']"
   ]
  },
  {
   "cell_type": "code",
   "execution_count": null,
   "id": "a2e13de0-e6c9-4d52-a8a2-df21bfc3088d",
   "metadata": {},
   "outputs": [],
   "source": [
    "for key,value in a.items():\n",
    "    print(f'key is {key} and value is {value}')"
   ]
  },
  {
   "cell_type": "code",
   "execution_count": null,
   "id": "08afb6b7-2cc9-48d0-a48d-12b4ea900618",
   "metadata": {},
   "outputs": [],
   "source": [
    "if 'k2' in a:\n",
    "    print(a['k2'])\n",
    "else :\n",
    "    print(\"no\")"
   ]
  },
  {
   "cell_type": "markdown",
   "id": "a7be40fe-679e-4c2d-926a-d6fa60778738",
   "metadata": {},
   "source": [
    "# set"
   ]
  },
  {
   "cell_type": "code",
   "execution_count": null,
   "id": "9345f569-dc4f-4062-b362-04df57e4acc0",
   "metadata": {
    "scrolled": true
   },
   "outputs": [],
   "source": [
    "a = {1,2,3,4,5,6}\n",
    "print(type(a))\n",
    "print(a)"
   ]
  },
  {
   "cell_type": "markdown",
   "id": "4f895222-fe42-4081-a2a7-49b9522eaef0",
   "metadata": {},
   "source": [
    "### add to set"
   ]
  },
  {
   "cell_type": "code",
   "execution_count": null,
   "id": "496287f0-920c-4f48-b452-715f6489a675",
   "metadata": {},
   "outputs": [],
   "source": [
    "a = {1,2,3,4,5,6}\n",
    "a.add(7)\n",
    "print(a)"
   ]
  },
  {
   "cell_type": "markdown",
   "id": "8e507b92-3d30-4a9e-bae3-c69fc1da53fd",
   "metadata": {},
   "source": [
    "### set is unique"
   ]
  },
  {
   "cell_type": "code",
   "execution_count": 24,
   "id": "47c5b67b-ae12-458f-816a-6407959bb1e4",
   "metadata": {},
   "outputs": [
    {
     "data": {
      "text/plain": [
       "{1, 2, 3, 4, 5}"
      ]
     },
     "execution_count": 24,
     "metadata": {},
     "output_type": "execute_result"
    }
   ],
   "source": [
    "a = {1,1,1,2,3,5,5,4}\n",
    "a"
   ]
  },
  {
   "cell_type": "markdown",
   "id": "3af1a0d6-5394-4d4a-94d2-efbc2c5f8dda",
   "metadata": {},
   "source": [
    "### concatenate two list"
   ]
  },
  {
   "cell_type": "code",
   "execution_count": null,
   "id": "c04cfaa2-f823-450d-b5c6-dcdf24654be2",
   "metadata": {
    "scrolled": true
   },
   "outputs": [],
   "source": [
    "a = [1,2,3,4,5,6]\n",
    "b = [7,8,9]\n",
    "c = [a, b]\n",
    "c"
   ]
  },
  {
   "cell_type": "code",
   "execution_count": 26,
   "id": "c28c0fe1-741c-4b52-a6a7-91f1c463f939",
   "metadata": {},
   "outputs": [
    {
     "data": {
      "text/plain": [
       "[1, 2, 3, 4, 5, 6, 7, 8, 9]"
      ]
     },
     "execution_count": 26,
     "metadata": {},
     "output_type": "execute_result"
    }
   ],
   "source": [
    "a = [1,2,3,4,5,6]\n",
    "b = [7,8,9]\n",
    "c = a + b \n",
    "c"
   ]
  },
  {
   "cell_type": "markdown",
   "id": "c5ae58dd-5ba8-489f-b31a-8bd55a2d455c",
   "metadata": {},
   "source": [
    "## math operation on two list"
   ]
  },
  {
   "cell_type": "code",
   "execution_count": 2,
   "id": "59c5b679-721d-4bb2-8fd4-c8f3fa5da3d3",
   "metadata": {},
   "outputs": [
    {
     "data": {
      "text/plain": [
       "[8, 10, 12, 4, 5, 6]"
      ]
     },
     "execution_count": 2,
     "metadata": {},
     "output_type": "execute_result"
    }
   ],
   "source": [
    "a = [1,2,3,4,5,6]\n",
    "b = [7,8,9,0,0,0]\n",
    "c = [a[i]+b[i] for i in range(len(a))]\n",
    "c"
   ]
  },
  {
   "cell_type": "code",
   "execution_count": 14,
   "id": "628f419f-c544-4b61-add5-b2334ebc7930",
   "metadata": {
    "scrolled": true
   },
   "outputs": [
    {
     "data": {
      "text/plain": [
       "[8, 10, 12, 4, 5, 6]"
      ]
     },
     "execution_count": 14,
     "metadata": {},
     "output_type": "execute_result"
    }
   ],
   "source": [
    "a = [1,2,3,4,5,6]\n",
    "b = [7,8,9,0,0,0]\n",
    "c = [x + y for x, y in zip(a, b)]\n",
    "c"
   ]
  },
  {
   "cell_type": "code",
   "execution_count": null,
   "id": "5dad5e7e-4c5f-46a2-aee0-a6daf7693ba0",
   "metadata": {},
   "outputs": [],
   "source": [
    "X = [[1, 2, 3],\n",
    "     [4, 5, 6],\n",
    "     [7, 8, 9]]\n",
    "\n",
    "Y = [[9, 8, 7],\n",
    "     [6, 5, 4],\n",
    "     [3, 2, 1]]\n",
    "\n",
    "result = [[X[i][j] + Y[i][j] for j in range\n",
    "           (len(X[0]))] for i in range(len(X))]\n",
    "\n",
    "for r in result:\n",
    "    print(r)"
   ]
  },
  {
   "cell_type": "code",
   "execution_count": 15,
   "id": "6c7c4170-dc9d-492e-8de1-e70f1795eb3b",
   "metadata": {},
   "outputs": [
    {
     "name": "stdout",
     "output_type": "stream",
     "text": [
      "Matrix([[10, 10, 10], [10, 10, 10], [10, 10, 10]])\n"
     ]
    }
   ],
   "source": [
    "from sympy import Matrix\n",
    "\n",
    "X = [[1, 2, 3],\n",
    "     [4, 5, 6],\n",
    "     [7, 8, 9]]\n",
    "\n",
    "Y = [[9, 8, 7],\n",
    "     [6, 5, 4],\n",
    "     [3, 2, 1]]\n",
    "\n",
    "# Create Matrix objects from the lists\n",
    "matrix_x = Matrix(X)\n",
    "matrix_y = Matrix(Y)\n",
    "\n",
    "# Add the matrices\n",
    "result = matrix_x + matrix_y\n",
    "\n",
    "# Print the result\n",
    "print(result)"
   ]
  },
  {
   "cell_type": "markdown",
   "id": "599cadce-4f1b-4f70-8e70-694a7a6ce41d",
   "metadata": {},
   "source": [
    "# Map"
   ]
  },
  {
   "cell_type": "code",
   "execution_count": 31,
   "id": "f50d70b5-f4fe-4152-b376-5fe4e9129c29",
   "metadata": {},
   "outputs": [
    {
     "name": "stdout",
     "output_type": "stream",
     "text": [
      "[6, 8, 10, 12]\n"
     ]
    }
   ],
   "source": [
    "a = [1,2,3,4]\n",
    "b = [5,6,7,8]\n",
    "\n",
    "def sum(a,b):\n",
    "    return a+b\n",
    "\n",
    "c = map(sum , a, b)\n",
    "print(list(c))"
   ]
  },
  {
   "cell_type": "code",
   "execution_count": 32,
   "id": "5ee51974-1ac0-48b6-8f09-8f692318419e",
   "metadata": {},
   "outputs": [
    {
     "name": "stdout",
     "output_type": "stream",
     "text": [
      "[6, 8, 10, 12]\n"
     ]
    }
   ],
   "source": [
    "a = [1,2,3,4]\n",
    "b = [5,6,7,8]\n",
    "c = map(lambda x,y: x+y , a, b)\n",
    "print(list(c))"
   ]
  },
  {
   "cell_type": "markdown",
   "id": "2c36e729-2077-40c8-b690-ff6514d3b409",
   "metadata": {},
   "source": [
    "# Union - Intersection  - Difference"
   ]
  },
  {
   "cell_type": "code",
   "execution_count": 33,
   "id": "b08a1385-8371-4f1b-b575-025b9210454c",
   "metadata": {},
   "outputs": [],
   "source": [
    "set1 = {1,2,3,4,5,6,7,9,10}\n",
    "set2 = {1,5,6,9,7,10,13,15,19}"
   ]
  },
  {
   "cell_type": "code",
   "execution_count": 34,
   "id": "f6925e05-1048-477d-8460-5e0268cf1302",
   "metadata": {},
   "outputs": [
    {
     "data": {
      "text/plain": [
       "{1, 2, 3, 4, 5, 6, 7, 9, 10, 13, 15, 19}"
      ]
     },
     "execution_count": 34,
     "metadata": {},
     "output_type": "execute_result"
    }
   ],
   "source": [
    "set1.union(set2)"
   ]
  },
  {
   "cell_type": "code",
   "execution_count": 35,
   "id": "d23bc4a3-57be-48d2-a197-1c811a2b5c41",
   "metadata": {},
   "outputs": [
    {
     "data": {
      "text/plain": [
       "{1, 5, 6, 7, 9, 10}"
      ]
     },
     "execution_count": 35,
     "metadata": {},
     "output_type": "execute_result"
    }
   ],
   "source": [
    "set1.intersection(set2)"
   ]
  },
  {
   "cell_type": "code",
   "execution_count": 36,
   "id": "c3c74dea-0adf-45a4-80eb-c0dfb69fa580",
   "metadata": {},
   "outputs": [
    {
     "data": {
      "text/plain": [
       "{2, 3, 4}"
      ]
     },
     "execution_count": 36,
     "metadata": {},
     "output_type": "execute_result"
    }
   ],
   "source": [
    "set1.difference(set2)"
   ]
  },
  {
   "cell_type": "code",
   "execution_count": 38,
   "id": "096be2c7-6144-48b6-bd87-a333fe391e15",
   "metadata": {},
   "outputs": [
    {
     "data": {
      "text/plain": [
       "{1, 4}"
      ]
     },
     "execution_count": 38,
     "metadata": {},
     "output_type": "execute_result"
    }
   ],
   "source": [
    "s1 = set([1, 2, 3, 4])\n",
    "s2 = set([2, 5])\n",
    "s3 = set([3, 6])\n",
    "s1.difference(s2, s3)"
   ]
  },
  {
   "cell_type": "code",
   "execution_count": null,
   "id": "13becdcb-c160-4b89-8239-84d5c22e9390",
   "metadata": {},
   "outputs": [],
   "source": []
  }
 ],
 "metadata": {
  "kernelspec": {
   "display_name": "v1",
   "language": "python",
   "name": "v1"
  },
  "language_info": {
   "codemirror_mode": {
    "name": "ipython",
    "version": 3
   },
   "file_extension": ".py",
   "mimetype": "text/x-python",
   "name": "python",
   "nbconvert_exporter": "python",
   "pygments_lexer": "ipython3",
   "version": "3.12.4"
  }
 },
 "nbformat": 4,
 "nbformat_minor": 5
}
