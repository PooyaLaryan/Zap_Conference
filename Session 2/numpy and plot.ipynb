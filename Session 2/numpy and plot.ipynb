{
 "cells": [
  {
   "cell_type": "code",
   "execution_count": null,
   "id": "51ded028-337b-43db-a3cf-0ddd6048e6e5",
   "metadata": {},
   "outputs": [],
   "source": [
    "import matplotlib.pyplot as plt\n",
    "import numpy as np"
   ]
  },
  {
   "cell_type": "markdown",
   "id": "bf98413b-c870-4116-ad87-cd27d0c3ebcc",
   "metadata": {},
   "source": [
    "# Sum of Two Vector Or Matrix"
   ]
  },
  {
   "cell_type": "code",
   "execution_count": null,
   "id": "4810e1d2-19b1-4ec7-a3e3-0bf7ec7be9b5",
   "metadata": {},
   "outputs": [],
   "source": [
    "a = np.array([1,2,3,4,5,6])\n",
    "b = np.array([7,8,9,0,0,0])\n",
    "a + b"
   ]
  },
  {
   "cell_type": "code",
   "execution_count": null,
   "id": "eac7b31f-8bb7-4aca-aed9-70c92a30dab4",
   "metadata": {},
   "outputs": [],
   "source": [
    "X = [[1, 2, 3],\n",
    "     [4, 5, 6],\n",
    "     [7, 8, 9]]\n",
    "\n",
    "Y = [[9, 8, 7],\n",
    "     [6, 5, 4],\n",
    "     [3, 2, 1]]\n",
    "\n",
    "result = np.array(X) + np.array(Y)\n",
    "\n",
    "print(result)"
   ]
  },
  {
   "cell_type": "markdown",
   "id": "7e104656-3723-43ae-b354-2a054611a0f0",
   "metadata": {},
   "source": [
    "# BroadCasing "
   ]
  },
  {
   "cell_type": "code",
   "execution_count": null,
   "id": "b0a7f338-3d0d-487a-a2e1-db008959f414",
   "metadata": {},
   "outputs": [],
   "source": [
    "a = np.array([1,2,3,4,5,6])\n",
    "b = a + 10\n",
    "b"
   ]
  },
  {
   "cell_type": "markdown",
   "id": "87e2792b-8c73-439e-985e-a64c9b71443d",
   "metadata": {},
   "source": [
    "# Eye"
   ]
  },
  {
   "cell_type": "code",
   "execution_count": null,
   "id": "2941e916-f8b0-4988-a723-3c6f2e85984a",
   "metadata": {
    "scrolled": true
   },
   "outputs": [],
   "source": [
    "np.eye(10)"
   ]
  },
  {
   "cell_type": "code",
   "execution_count": 12,
   "id": "4ab921a7-6010-4349-8056-4ef433a3b02d",
   "metadata": {},
   "outputs": [
    {
     "data": {
      "text/plain": [
       "array([[1., 0., 0., 0., 0.],\n",
       "       [0., 1., 0., 0., 0.],\n",
       "       [0., 0., 1., 0., 0.],\n",
       "       [0., 0., 0., 1., 0.],\n",
       "       [0., 0., 0., 0., 1.]])"
      ]
     },
     "execution_count": 12,
     "metadata": {},
     "output_type": "execute_result"
    }
   ],
   "source": [
    "np.eye(5,5)"
   ]
  },
  {
   "cell_type": "code",
   "execution_count": 28,
   "id": "879a5ee8-a4c2-49e7-9eda-539db7596a0f",
   "metadata": {},
   "outputs": [
    {
     "data": {
      "text/plain": [
       "2"
      ]
     },
     "execution_count": 28,
     "metadata": {},
     "output_type": "execute_result"
    }
   ],
   "source": [
    "a = np.eye(3,3)\n",
    "a.ndim"
   ]
  },
  {
   "cell_type": "code",
   "execution_count": null,
   "id": "4bee3edd-f8f9-4ba6-ab9f-4928db516596",
   "metadata": {},
   "outputs": [],
   "source": [
    "np.zeros(5)"
   ]
  },
  {
   "cell_type": "markdown",
   "id": "8030928b-670a-4381-85fc-bdc87e482e40",
   "metadata": {},
   "source": [
    "# Zeros"
   ]
  },
  {
   "cell_type": "code",
   "execution_count": 10,
   "id": "791cbd25-ef27-44cd-a7a4-27dcf6955f64",
   "metadata": {},
   "outputs": [
    {
     "data": {
      "text/plain": [
       "array([[0., 0., 0., 0., 0., 0., 0.],\n",
       "       [0., 0., 0., 0., 0., 0., 0.],\n",
       "       [0., 0., 0., 0., 0., 0., 0.],\n",
       "       [0., 0., 0., 0., 0., 0., 0.],\n",
       "       [0., 0., 0., 0., 0., 0., 0.],\n",
       "       [0., 0., 0., 0., 0., 0., 0.]])"
      ]
     },
     "execution_count": 10,
     "metadata": {},
     "output_type": "execute_result"
    }
   ],
   "source": [
    "np.zeros((6,7))"
   ]
  },
  {
   "cell_type": "markdown",
   "id": "a9cbd2a2-d5f7-47e1-abc8-6a05ea21ef36",
   "metadata": {},
   "source": [
    "# Ones"
   ]
  },
  {
   "cell_type": "code",
   "execution_count": 7,
   "id": "fe73dec9-8579-40e7-b28f-0b6173a3a78d",
   "metadata": {},
   "outputs": [
    {
     "data": {
      "text/plain": [
       "array([1., 1., 1., 1., 1.])"
      ]
     },
     "execution_count": 7,
     "metadata": {},
     "output_type": "execute_result"
    }
   ],
   "source": [
    "a = np.ones(5)\n",
    "a"
   ]
  },
  {
   "cell_type": "code",
   "execution_count": 9,
   "id": "9257ffdb-e69d-45c3-b4e0-b13105259c73",
   "metadata": {},
   "outputs": [
    {
     "data": {
      "text/plain": [
       "array([[1., 1., 1., 1., 1., 1.],\n",
       "       [1., 1., 1., 1., 1., 1.],\n",
       "       [1., 1., 1., 1., 1., 1.],\n",
       "       [1., 1., 1., 1., 1., 1.],\n",
       "       [1., 1., 1., 1., 1., 1.]])"
      ]
     },
     "execution_count": 9,
     "metadata": {},
     "output_type": "execute_result"
    }
   ],
   "source": [
    "a = np.ones((5,6))\n",
    "a"
   ]
  },
  {
   "cell_type": "markdown",
   "id": "6d08ebef-f8ce-4de5-ad67-83f093f02d76",
   "metadata": {},
   "source": [
    "# Number of dimention"
   ]
  },
  {
   "cell_type": "code",
   "execution_count": 31,
   "id": "6abbcbbe-80c5-47ca-8881-45502b524642",
   "metadata": {},
   "outputs": [
    {
     "name": "stdout",
     "output_type": "stream",
     "text": [
      "2\n",
      "30\n"
     ]
    }
   ],
   "source": [
    "a = np.ones((5,6))\n",
    "print(a.ndim)\n",
    "print(a.size)"
   ]
  },
  {
   "cell_type": "code",
   "execution_count": null,
   "id": "a462bb73-ce53-43bc-8813-dbe953aa60eb",
   "metadata": {},
   "outputs": [],
   "source": []
  },
  {
   "cell_type": "markdown",
   "id": "eba8eb9f-48d8-4dc2-81ce-66d702e08070",
   "metadata": {},
   "source": [
    "# Arragne"
   ]
  },
  {
   "cell_type": "code",
   "execution_count": 18,
   "id": "2d529b0a-9405-4329-a2e5-d8c16d28adba",
   "metadata": {},
   "outputs": [
    {
     "data": {
      "text/plain": [
       "array([0, 1, 2, 3, 4, 5, 6, 7, 8, 9])"
      ]
     },
     "execution_count": 18,
     "metadata": {},
     "output_type": "execute_result"
    }
   ],
   "source": [
    "np.arange(10)"
   ]
  },
  {
   "cell_type": "code",
   "execution_count": 19,
   "id": "c0e4d4f5-5116-4ddb-a6f0-b97d832ae0ad",
   "metadata": {},
   "outputs": [
    {
     "data": {
      "text/plain": [
       "array([ 5,  6,  7,  8,  9, 10, 11, 12, 13, 14, 15, 16, 17, 18, 19])"
      ]
     },
     "execution_count": 19,
     "metadata": {},
     "output_type": "execute_result"
    }
   ],
   "source": [
    "np.arange(5,20)"
   ]
  },
  {
   "cell_type": "code",
   "execution_count": 20,
   "id": "a7eebd4c-6783-4d3d-bd54-7ddc279754f5",
   "metadata": {},
   "outputs": [
    {
     "data": {
      "text/plain": [
       "array([ 5. ,  5.5,  6. ,  6.5,  7. ,  7.5,  8. ,  8.5,  9. ,  9.5, 10. ,\n",
       "       10.5, 11. , 11.5, 12. , 12.5, 13. , 13.5, 14. , 14.5, 15. , 15.5,\n",
       "       16. , 16.5, 17. , 17.5, 18. , 18.5, 19. , 19.5])"
      ]
     },
     "execution_count": 20,
     "metadata": {},
     "output_type": "execute_result"
    }
   ],
   "source": [
    "np.arange(5,20, .5)"
   ]
  },
  {
   "cell_type": "markdown",
   "id": "11e15d17-1b21-498d-97d5-9895736c77ee",
   "metadata": {},
   "source": [
    "# Random"
   ]
  },
  {
   "cell_type": "code",
   "execution_count": 23,
   "id": "a77d8d93-c481-454a-a2eb-93ddaea62d64",
   "metadata": {},
   "outputs": [
    {
     "data": {
      "text/plain": [
       "array([[0.50884231, 0.33969244],\n",
       "       [0.01375317, 0.1927339 ],\n",
       "       [0.9720803 , 0.24092031]])"
      ]
     },
     "execution_count": 23,
     "metadata": {},
     "output_type": "execute_result"
    }
   ],
   "source": [
    "np.random.rand(3,2)"
   ]
  },
  {
   "cell_type": "markdown",
   "id": "23c8a8e7-2380-49b8-9a64-edb88ef92d74",
   "metadata": {},
   "source": [
    "# Aggrigation"
   ]
  },
  {
   "cell_type": "code",
   "execution_count": 32,
   "id": "87143038-2f42-4e7f-bc79-134ed2b8bd96",
   "metadata": {},
   "outputs": [
    {
     "data": {
      "text/plain": [
       "array([[0.5559181 , 0.86377717, 0.9160167 , 0.11753341, 0.95843289],\n",
       "       [0.7619494 , 0.18774452, 0.32575622, 0.26715433, 0.97205537],\n",
       "       [0.06644956, 0.83741505, 0.7407686 , 0.69563695, 0.81746517],\n",
       "       [0.64648099, 0.1098461 , 0.80420634, 0.5643329 , 0.91446008],\n",
       "       [0.66706086, 0.08786254, 0.42166753, 0.4770074 , 0.98906293]])"
      ]
     },
     "execution_count": 32,
     "metadata": {},
     "output_type": "execute_result"
    }
   ],
   "source": [
    "a = np.random.rand(5,5)\n",
    "a"
   ]
  },
  {
   "cell_type": "code",
   "execution_count": 33,
   "id": "e7b0bf64-ed33-4e8f-8fd0-cdff646b9e37",
   "metadata": {},
   "outputs": [
    {
     "data": {
      "text/plain": [
       "14.76606109345805"
      ]
     },
     "execution_count": 33,
     "metadata": {},
     "output_type": "execute_result"
    }
   ],
   "source": [
    "a.sum()"
   ]
  },
  {
   "cell_type": "code",
   "execution_count": 34,
   "id": "99bbdd52-3121-4de8-9b07-5513882306e8",
   "metadata": {},
   "outputs": [
    {
     "data": {
      "text/plain": [
       "0.9890629256215859"
      ]
     },
     "execution_count": 34,
     "metadata": {},
     "output_type": "execute_result"
    }
   ],
   "source": [
    "a.max()"
   ]
  },
  {
   "cell_type": "code",
   "execution_count": 35,
   "id": "8091d599-2cb8-4b4a-ae51-b65dff5cccd9",
   "metadata": {},
   "outputs": [
    {
     "data": {
      "text/plain": [
       "0.590642443738322"
      ]
     },
     "execution_count": 35,
     "metadata": {},
     "output_type": "execute_result"
    }
   ],
   "source": [
    "a.mean()"
   ]
  },
  {
   "cell_type": "code",
   "execution_count": 36,
   "id": "0cb3c023-20b8-40b8-9050-2580874ca671",
   "metadata": {},
   "outputs": [
    {
     "data": {
      "text/plain": [
       "0.30447963357466773"
      ]
     },
     "execution_count": 36,
     "metadata": {},
     "output_type": "execute_result"
    }
   ],
   "source": [
    "a.std()"
   ]
  },
  {
   "cell_type": "markdown",
   "id": "ba66a14d-3260-4ab9-84ac-dd46d0f68d87",
   "metadata": {},
   "source": [
    "# Shape and Reshape"
   ]
  },
  {
   "cell_type": "code",
   "execution_count": 26,
   "id": "519a7565-49fc-4782-b13b-44e530314d8f",
   "metadata": {},
   "outputs": [
    {
     "name": "stdout",
     "output_type": "stream",
     "text": [
      "(4, 3)\n",
      "(3,)\n",
      "[14 32 50 68]\n"
     ]
    }
   ],
   "source": [
    "a = np.array([[1,2,3],[4,5,6],[7,8,9],[10,11,12]])\n",
    "print(np.shape(a))\n",
    "b = np.array([1,2,3]).reshape(3)\n",
    "print(np.shape(b))\n",
    "print(np.dot(a,b))"
   ]
  },
  {
   "cell_type": "code",
   "execution_count": null,
   "id": "2cf40dfb-ab00-4105-8ef2-e5eb7d20f5ad",
   "metadata": {},
   "outputs": [],
   "source": [
    "a = np.array([[1,2,3],[4,5,6],[7,8,9],[10,11,12]])\n",
    "print(np.shape(a))\n",
    "b = np.array([1,2,3]).reshape(3,1)\n",
    "print(np.shape(b))\n",
    "print(np.dot(a,b))"
   ]
  },
  {
   "cell_type": "code",
   "execution_count": null,
   "id": "91a901c9-6ef4-4ce4-9c58-f8d266419141",
   "metadata": {},
   "outputs": [],
   "source": [
    "a = np.array([[1,2,3],[4,5,6],[7,8,9],[10,11,12]])\n",
    "print(np.shape(a))\n",
    "b = np.array([1,2,3])\n",
    "print(np.shape(b))\n",
    "print(np.dot(a,b))"
   ]
  },
  {
   "cell_type": "code",
   "execution_count": null,
   "id": "8c1a41d7-9f4b-402c-b346-cf6ac7a40480",
   "metadata": {},
   "outputs": [],
   "source": [
    "print(np.reshape(np.arange(12),(3,-1)))"
   ]
  },
  {
   "cell_type": "code",
   "execution_count": null,
   "id": "858576b7-fc5c-4db2-b966-1771495d2c09",
   "metadata": {},
   "outputs": [],
   "source": [
    "a = np.arange(3*4*5*6).reshape((3,4,5,6))\n",
    "a"
   ]
  },
  {
   "cell_type": "code",
   "execution_count": null,
   "id": "31fba660-ac53-40f5-8f18-d49534a47d4a",
   "metadata": {},
   "outputs": [],
   "source": [
    "x = np.arange(-10,10,.1)\n",
    "y = np.sin(x)\n",
    "plt.plot(x,y)"
   ]
  },
  {
   "cell_type": "code",
   "execution_count": null,
   "id": "760ca9b3-bd30-4a90-9f87-bd0a2b561e38",
   "metadata": {},
   "outputs": [],
   "source": [
    "rnd = np.random.default_rng()"
   ]
  },
  {
   "cell_type": "code",
   "execution_count": null,
   "id": "60bb8eed-50fe-430a-b248-40fed1c0fd19",
   "metadata": {},
   "outputs": [],
   "source": [
    "rnd.random()"
   ]
  },
  {
   "cell_type": "code",
   "execution_count": null,
   "id": "3ac452f1-0a80-4aa1-b421-93522f0e48b4",
   "metadata": {},
   "outputs": [],
   "source": [
    "np.random.normal(0, 2, 990) "
   ]
  },
  {
   "cell_type": "code",
   "execution_count": null,
   "id": "5fb286b1-5fa9-441b-b20c-e9acdfb0c5ad",
   "metadata": {},
   "outputs": [],
   "source": [
    "x = np.linspace(-10, 10, 100)\n",
    "y = - (x**2 + 2*x - 2)  + np.random.normal(0, 8, 100)\n",
    "plt.scatter(x,y)"
   ]
  },
  {
   "cell_type": "code",
   "execution_count": null,
   "id": "5dc88a94-7171-441b-a510-a379793f77b6",
   "metadata": {},
   "outputs": [],
   "source": [
    "x = rnd.standard_normal(1000)\n",
    "plt.hist(x)"
   ]
  },
  {
   "cell_type": "code",
   "execution_count": null,
   "id": "f616d8b6-9d2c-42e8-9b91-fc20715bd464",
   "metadata": {},
   "outputs": [],
   "source": [
    "x = rnd.standard_normal(1000)\n",
    "plt.hist(x,15)"
   ]
  },
  {
   "cell_type": "code",
   "execution_count": null,
   "id": "5ba69905-80e6-4ecf-8926-53a7d13c732f",
   "metadata": {},
   "outputs": [],
   "source": [
    "rnd.random((3,3))"
   ]
  },
  {
   "cell_type": "code",
   "execution_count": null,
   "id": "7c1365cc-db80-4ddb-8956-89f19d35da8d",
   "metadata": {},
   "outputs": [],
   "source": [
    "x = np.arange(0,10)\n",
    "y = x**2\n",
    "plt.plot(x,y,'g*')"
   ]
  },
  {
   "cell_type": "code",
   "execution_count": null,
   "id": "00e24d60-fe69-4056-8319-388a1c186caf",
   "metadata": {},
   "outputs": [],
   "source": [
    "x = np.arange(0,10)\n",
    "y = x**2\n",
    "plt.plot(x,y,'r--')\n",
    "plt.xlim(2,4)\n",
    "plt.ylim(3,20)\n",
    "plt.title(\"Zoomed\")\n",
    "plt.xlabel(\"X Axis\")\n",
    "plt.ylabel(\"Y Axis\")"
   ]
  },
  {
   "cell_type": "code",
   "execution_count": null,
   "id": "e27168b7-af71-4094-bcca-39aa6f94af39",
   "metadata": {},
   "outputs": [],
   "source": [
    "mat = np.arange(0,100).reshape(10,10)\n",
    "mat"
   ]
  },
  {
   "cell_type": "code",
   "execution_count": null,
   "id": "ae5cd76f-212f-4db8-8ccc-572a6d09d373",
   "metadata": {},
   "outputs": [],
   "source": [
    "plt.imshow(mat)"
   ]
  },
  {
   "cell_type": "code",
   "execution_count": null,
   "id": "07780aa1-1edd-49ad-8f60-420e57211526",
   "metadata": {},
   "outputs": [],
   "source": [
    "mat = np.random.randint(0,100,(10,10))\n",
    "plt.imshow(mat)"
   ]
  },
  {
   "cell_type": "code",
   "execution_count": null,
   "id": "cfa9a078-bdd7-4b0a-b5ca-d8505fca1f12",
   "metadata": {},
   "outputs": [],
   "source": [
    "import matplotlib.image as img\n",
    "pic = img.imread('pic.jpg')\n",
    "plt.imshow(pic)"
   ]
  },
  {
   "cell_type": "code",
   "execution_count": null,
   "id": "f96ccc21-5ac4-476e-98f1-4846c5edc8b5",
   "metadata": {},
   "outputs": [],
   "source": [
    "x = x = np.arange(-100,100,.1)\n",
    "y1 = x ** 3\n",
    "y2 = x ** 2\n",
    "plt.plot(x,y1,'r',x,y2,'g')"
   ]
  },
  {
   "cell_type": "code",
   "execution_count": null,
   "id": "b7c48c50-af5e-49fa-86dd-b6fb8ca21385",
   "metadata": {},
   "outputs": [],
   "source": [
    "with cbook.get_sample_data('pic.jpg') as file: \n",
    "    im = image.imread(file)\n",
    "    \n",
    "fig, ax = plt.subplots() \n",
    "  \n",
    "ax.plot(np.cos(10 * np.linspace(0, 1)), '-o', ms = 15, \n",
    "                            alpha = 0.6, mfc ='green') \n",
    "ax.grid() \n",
    "fig.figimage(im, 10, 10, zorder = 3, alpha =.5) \n",
    "\n",
    "plt.title('matplotlib.pyplot.imread() function Example',  \n",
    "                                     fontweight =\"bold\") \n",
    "plt.show()"
   ]
  },
  {
   "cell_type": "code",
   "execution_count": null,
   "id": "45322718-c98c-4009-b3e4-c0e25193a589",
   "metadata": {},
   "outputs": [],
   "source": [
    "plt.plot(x,y1)\n",
    "plt.title(\"First plot\")\n",
    "\n",
    "plt.figure()\n",
    "\n",
    "plt.plot(x,y2)\n",
    "plt.title(\"second plot\")"
   ]
  },
  {
   "cell_type": "code",
   "execution_count": null,
   "id": "86cc05dc-19e8-4447-b9a8-d68d623c3948",
   "metadata": {},
   "outputs": [],
   "source": [
    "x = np.array([0, 1, 2, 3])\n",
    "y = np.array([3, 8, 1, 10])\n",
    "\n",
    "plt.subplot(2, 1, 1)\n",
    "plt.plot(x,y)\n",
    "\n",
    "#plot 2:\n",
    "x = np.array([0, 1, 2, 3])\n",
    "y = np.array([10, 20, 30, 40])\n",
    "\n",
    "plt.subplot(2, 1, 2)\n",
    "plt.plot(x,y)\n",
    "\n",
    "plt.show()"
   ]
  },
  {
   "cell_type": "code",
   "execution_count": null,
   "id": "8c0e64d4-9c89-46fd-a1b6-f511e471e447",
   "metadata": {},
   "outputs": [],
   "source": [
    "x = np.array([0, 1, 2, 3])\n",
    "y = np.array([3, 8, 1, 10])\n",
    "\n",
    "plt.subplot(2, 3, 1)\n",
    "plt.plot(x,y)\n",
    "\n",
    "y = np.array([10, 20, 30, 40])\n",
    "\n",
    "plt.subplot(2, 3, 2)\n",
    "plt.plot(x,y)\n",
    "\n",
    "y = np.array([3, 8, 1, 10])\n",
    "\n",
    "plt.subplot(2, 3, 3)\n",
    "plt.plot(x,y)\n",
    "\n",
    "y = np.array([10, 20, 30, 40])\n",
    "\n",
    "plt.subplot(2, 3, 4)\n",
    "plt.plot(x,y)\n",
    "\n",
    "y = np.array([3, 8, 1, 10])\n",
    "\n",
    "plt.subplot(2, 3, 5)\n",
    "plt.plot(x,y)\n",
    "\n",
    "y = np.array([10, 20, 30, 40])\n",
    "\n",
    "plt.subplot(2, 3, 6)\n",
    "plt.plot(x,y)\n",
    "\n",
    "plt.show()"
   ]
  },
  {
   "cell_type": "code",
   "execution_count": null,
   "id": "842ec961-6118-4615-b15f-9239bfa44492",
   "metadata": {},
   "outputs": [],
   "source": [
    "code = np.array([\n",
    "    1, 0, 1, 0, 1, 1, 1, 0, 1, 1, 0, 0, 0, 1, 0, 0, 1, 0, 1, 0, 0, 1, 1, 1,\n",
    "    0, 0, 0, 1, 0, 1, 1, 0, 0, 0, 0, 1, 0, 1, 0, 0, 1, 1, 0, 0, 1, 0, 1, 0,\n",
    "    1, 0, 1, 0, 0, 0, 0, 1, 0, 1, 1, 1, 0, 1, 0, 0, 1, 1, 0, 1, 1, 0, 0, 1,\n",
    "    1, 0, 0, 1, 1, 0, 1, 0, 1, 1, 1, 0, 0, 1, 0, 0, 0, 1, 0, 0, 1, 0, 1])\n",
    "\n",
    "pixel_per_bar = 4\n",
    "dpi = 100\n",
    "\n",
    "fig = plt.figure(figsize=(len(code) * pixel_per_bar / dpi, 2), dpi=dpi)\n",
    "ax = fig.add_axes([0, 0, 1, 1])  # span the whole figure\n",
    "ax.set_axis_off()\n",
    "ax.imshow(code.reshape(1, -1), cmap='binary', aspect='auto',\n",
    "          interpolation='nearest')\n",
    "plt.show()"
   ]
  },
  {
   "cell_type": "code",
   "execution_count": null,
   "id": "a29a0bea-7cee-4448-a66c-b45d65fa3df6",
   "metadata": {},
   "outputs": [],
   "source": []
  }
 ],
 "metadata": {
  "kernelspec": {
   "display_name": "Python 3 (ipykernel)",
   "language": "python",
   "name": "python3"
  },
  "language_info": {
   "codemirror_mode": {
    "name": "ipython",
    "version": 3
   },
   "file_extension": ".py",
   "mimetype": "text/x-python",
   "name": "python",
   "nbconvert_exporter": "python",
   "pygments_lexer": "ipython3",
   "version": "3.12.4"
  }
 },
 "nbformat": 4,
 "nbformat_minor": 5
}
