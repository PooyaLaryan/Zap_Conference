{
 "cells": [
  {
   "cell_type": "markdown",
   "id": "4e940470-0bac-493a-8685-032248cd42d3",
   "metadata": {},
   "source": [
    "# <b>Introduction of the Hoda Dataset and Reshaping for Use in Machine Learning Algorithms</b>\n",
    "\n",
    "## Introduction to the Hoda Handwritten Digits Dataset\n",
    "#### The Hoda Handwritten Digits dataset, which is the first large-scale collection of handwritten Persian digits, consists of 102,353 black-and-white handwritten samples. This dataset was prepared as part of a master's thesis project on handwritten form recognition. The data were extracted from around 12,000 registration forms from the 2005 (1384) Iranian national university entrance exam for master’s degree programs and the 2004(1383) exam for associate degree programs held by the Comprehensive University of Applied and Practical Sciences .\n",
    "\n",
    "#### <a href=\"https://www.sciencedirect.com/science/article/abs/pii/S0167865507000037\">H. Khosravi and E. Kabir, \"Introducing a very large dataset of handwritten Farsi digits and a study on their varieties,\" Pattern Recognition Letters, vol. 28, pp. 1133-1141, 2007.</a>"
   ]
  },
  {
   "cell_type": "code",
   "execution_count": null,
   "id": "2a444604-2a4e-4ecf-8421-99aabd360674",
   "metadata": {},
   "outputs": [],
   "source": [
    "import numpy as np\n",
    "from scipy import io\n",
    "import matplotlib.pyplot as plt\n",
    "import cv2"
   ]
  },
  {
   "cell_type": "code",
   "execution_count": null,
   "id": "ad1c5547-a263-44fb-97f0-0bb0ba3671f2",
   "metadata": {},
   "outputs": [],
   "source": [
    "dataset = io.loadmat('Data_hoda_full.mat')"
   ]
  },
  {
   "cell_type": "code",
   "execution_count": null,
   "id": "d17e4b0c-0d6c-45ea-b00e-6705bfd087ba",
   "metadata": {},
   "outputs": [],
   "source": [
    "type(dataset)"
   ]
  },
  {
   "cell_type": "code",
   "execution_count": null,
   "id": "0922febf-eb25-4c86-bc52-22b3ad108249",
   "metadata": {},
   "outputs": [],
   "source": [
    "dataset.keys()"
   ]
  },
  {
   "cell_type": "code",
   "execution_count": null,
   "id": "b3c7fe0f-adc3-4c84-9474-cf8ccb862960",
   "metadata": {},
   "outputs": [],
   "source": [
    "dataset['Data'].shape"
   ]
  },
  {
   "cell_type": "code",
   "execution_count": null,
   "id": "42e40bbd-5f2e-40a0-8d09-be17d9561848",
   "metadata": {},
   "outputs": [],
   "source": [
    "dataset['Data'][0][0]"
   ]
  },
  {
   "cell_type": "code",
   "execution_count": null,
   "id": "0b273369-7a6a-4110-a98f-819ce4655e32",
   "metadata": {},
   "outputs": [],
   "source": [
    "X_train_orginal = np.squeeze(dataset['Data'][:1000])\n",
    "y_train = np.squeeze(dataset['labels'][:1000])\n",
    "X_test_original = np.squeeze(dataset['Data'][1000:1200])\n",
    "y_test = np.squeeze(dataset['labels'][1000:1200])"
   ]
  },
  {
   "cell_type": "code",
   "execution_count": null,
   "id": "aa12f4f1-77e5-4036-b217-fdf3ac606059",
   "metadata": {},
   "outputs": [],
   "source": [
    "plt.imshow(X_train_orginal[999], cmap='gray')\n",
    "plt.show()"
   ]
  },
  {
   "cell_type": "code",
   "execution_count": null,
   "id": "73109db4-6bb0-4b0f-95f3-ce904d3aaabb",
   "metadata": {},
   "outputs": [],
   "source": [
    "i=70\n",
    "image = X_train_orginal[i]\n",
    "label = y_train[i]\n",
    "plt.imshow(image, cmap='gray')\n",
    "plt.show()\n",
    "print(\"Label {}th image is: {}\".format(i, label))"
   ]
  },
  {
   "cell_type": "code",
   "execution_count": null,
   "id": "8947eb42-4f7e-45f7-b564-540f350a8104",
   "metadata": {},
   "outputs": [],
   "source": [
    "image.shape"
   ]
  },
  {
   "cell_type": "code",
   "execution_count": null,
   "id": "ad952968-2a3f-4345-a4fb-7dcc30c388c3",
   "metadata": {},
   "outputs": [],
   "source": [
    "#resize\n",
    "X_train_5by5 = [cv2.resize(img, dsize=(5, 5)) for img in X_train_orginal]\n",
    "X_test_5by_5 = [cv2.resize(img, dsize=(5, 5)) for img in X_test_original]"
   ]
  },
  {
   "cell_type": "code",
   "execution_count": null,
   "id": "bc473fa9-cf76-4e21-b9fe-d7e70da1548c",
   "metadata": {},
   "outputs": [],
   "source": [
    "X_train_5by5[0].shape"
   ]
  },
  {
   "cell_type": "code",
   "execution_count": null,
   "id": "2a3a5101-42ff-43f5-b609-60582f183209",
   "metadata": {},
   "outputs": [],
   "source": [
    "image = X_train_5by5[70]\n",
    "plt.imshow(image, cmap='gray')\n",
    "plt.show()"
   ]
  },
  {
   "cell_type": "code",
   "execution_count": null,
   "id": "f4665dc5-a464-484a-964e-66d270383772",
   "metadata": {},
   "outputs": [],
   "source": [
    "#reshape\n",
    "X_train = np.reshape(X_train_5by5, [-1,25])\n",
    "X_test = np.reshape(X_test_5by_5, [-1,25])\n",
    "print(X_train.shape)\n",
    "print(X_test.shape)"
   ]
  },
  {
   "cell_type": "code",
   "execution_count": null,
   "id": "b7f1aa0a-ad61-4e47-9512-a91302874b20",
   "metadata": {},
   "outputs": [],
   "source": [
    "X_train[0].shape"
   ]
  },
  {
   "cell_type": "code",
   "execution_count": null,
   "id": "244434f7-0158-4e93-9554-98c152ab9df2",
   "metadata": {},
   "outputs": [],
   "source": []
  }
 ],
 "metadata": {
  "kernelspec": {
   "display_name": "v1",
   "language": "python",
   "name": "v1"
  },
  "language_info": {
   "codemirror_mode": {
    "name": "ipython",
    "version": 3
   },
   "file_extension": ".py",
   "mimetype": "text/x-python",
   "name": "python",
   "nbconvert_exporter": "python",
   "pygments_lexer": "ipython3",
   "version": "3.12.4"
  }
 },
 "nbformat": 4,
 "nbformat_minor": 5
}
