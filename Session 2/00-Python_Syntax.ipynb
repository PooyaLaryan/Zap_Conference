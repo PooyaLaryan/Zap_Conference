{
 "cells": [
  {
   "cell_type": "markdown",
   "id": "73a81394-f226-4187-b77c-c5702016ade7",
   "metadata": {
    "jp-MarkdownHeadingCollapsed": true
   },
   "source": [
    "# basic operator"
   ]
  },
  {
   "cell_type": "code",
   "execution_count": null,
   "id": "878d42b6-7b5d-48b3-af31-5ea899629b51",
   "metadata": {},
   "outputs": [],
   "source": [
    "power =2**4\n",
    "multiple = 2 * 4\n",
    "remaining = 5%2\n",
    "division = 5/2\n",
    "minus = 2-3\n",
    "sumation = 2+3\n",
    "equal = 10 == 10\n",
    "notEqual = 10 != 10  \n",
    "# comment \n",
    "\n",
    "print(power)\n",
    "print(multiple)\n",
    "print(remaining)\n",
    "print(division)\n",
    "print(minus)\n",
    "print(sumation)\n",
    "print(equal)\n",
    "print(notEqual)"
   ]
  },
  {
   "cell_type": "markdown",
   "id": "36325fd7-35b5-420a-a465-42209a68446a",
   "metadata": {
    "jp-MarkdownHeadingCollapsed": true
   },
   "source": [
    "# Syntax"
   ]
  },
  {
   "cell_type": "code",
   "execution_count": null,
   "id": "9f922651-357a-44b8-956e-219c1d95262c",
   "metadata": {},
   "outputs": [],
   "source": [
    "a = 10\n",
    "b = 14\n",
    "if a > b : \n",
    "    print(a)\n",
    "else :\n",
    "    print(b)"
   ]
  },
  {
   "cell_type": "code",
   "execution_count": null,
   "id": "8c4b0476-039a-4a0a-a42d-5d1a550f352f",
   "metadata": {},
   "outputs": [],
   "source": [
    "a = 1\n",
    "b = 2\n",
    "c = 3\n",
    "\n",
    "d = b**2 - 4 * a * c\n",
    "\n",
    "if d > 0 : \n",
    "    print(\"2\")\n",
    "elif d == 0:\n",
    "    print(\"1\")\n",
    "else:\n",
    "    print(\"0\")"
   ]
  },
  {
   "cell_type": "code",
   "execution_count": null,
   "id": "53798486-58b4-4ec0-a212-af6130aa8cb0",
   "metadata": {},
   "outputs": [],
   "source": [
    "for i in range(10):\n",
    "    print(i)"
   ]
  },
  {
   "cell_type": "code",
   "execution_count": null,
   "id": "bd3d72fa-ff22-43b6-944b-ef5c48791a95",
   "metadata": {},
   "outputs": [],
   "source": [
    "for i in range(2,20,2):\n",
    "    print(i)"
   ]
  },
  {
   "cell_type": "code",
   "execution_count": null,
   "id": "f807f280-afbb-4d17-8c96-04fe567bb7b9",
   "metadata": {},
   "outputs": [],
   "source": [
    "a = 0\n",
    "while a<10:\n",
    "    a+=1\n",
    "    print(a)\n"
   ]
  },
  {
   "cell_type": "markdown",
   "id": "ee18b3d9-68d2-47b1-86ad-ba22bd34375f",
   "metadata": {},
   "source": [
    "# funcation"
   ]
  },
  {
   "cell_type": "code",
   "execution_count": null,
   "id": "9a2649be-f7fd-4e9f-8d35-3e4edb6c74a6",
   "metadata": {},
   "outputs": [],
   "source": [
    "def myfunction(a,b):\n",
    "    return a+b\n",
    "\n",
    "myfunction(5,10)"
   ]
  },
  {
   "cell_type": "markdown",
   "id": "86d13f7e-f7f8-43bc-ad13-2a614290e1d0",
   "metadata": {},
   "source": [
    "# Data Stracture (List - Tuple - Dictionary - Set)"
   ]
  },
  {
   "cell_type": "markdown",
   "id": "c3c5c66a-4271-4ab9-bbe2-4c9730eef091",
   "metadata": {
    "jp-MarkdownHeadingCollapsed": true
   },
   "source": [
    "## List"
   ]
  },
  {
   "cell_type": "code",
   "execution_count": null,
   "id": "1e03667c-d08f-407c-8c11-db49bc6da3c1",
   "metadata": {},
   "outputs": [],
   "source": [
    "list =[1,2,3,4,5,6,7,8,9,10,11,12,13,14,15,16,17,18,19,20]\n",
    "list"
   ]
  },
  {
   "cell_type": "code",
   "execution_count": null,
   "id": "88a4f76b-5eda-487d-8d64-e97ac83254af",
   "metadata": {},
   "outputs": [],
   "source": [
    "list1 = [1,2.5,\"ali\"]\n",
    "list1"
   ]
  },
  {
   "cell_type": "code",
   "execution_count": null,
   "id": "0bda2121-89ed-47f1-8f68-455d2f92844b",
   "metadata": {},
   "outputs": [],
   "source": [
    "list[2]"
   ]
  },
  {
   "cell_type": "code",
   "execution_count": null,
   "id": "a64c9fd2-63bf-4a46-a9fe-a4895d454391",
   "metadata": {},
   "outputs": [],
   "source": [
    "list[:2]"
   ]
  },
  {
   "cell_type": "code",
   "execution_count": null,
   "id": "c5642377-b68c-4c15-8c7a-56509dae6980",
   "metadata": {},
   "outputs": [],
   "source": [
    "list[3:]"
   ]
  },
  {
   "cell_type": "code",
   "execution_count": null,
   "id": "ac1060b9-5379-42a1-81e2-c9a7d18666c3",
   "metadata": {},
   "outputs": [],
   "source": [
    "list[-1]"
   ]
  },
  {
   "cell_type": "code",
   "execution_count": null,
   "id": "3db24362-01a6-4e92-859e-b204b8155016",
   "metadata": {},
   "outputs": [],
   "source": [
    "list.append(21)\n",
    "print(list)"
   ]
  },
  {
   "cell_type": "code",
   "execution_count": null,
   "id": "9afd83df-3c6e-4071-bfee-ff20ced7bf96",
   "metadata": {},
   "outputs": [],
   "source": [
    "list2 = [0]*5\n",
    "list2"
   ]
  },
  {
   "cell_type": "code",
   "execution_count": null,
   "id": "c8f52395-0889-4523-bff0-2ffe4b171ed5",
   "metadata": {},
   "outputs": [],
   "source": [
    "list = [i for i in range(10)]\n",
    "list"
   ]
  },
  {
   "cell_type": "code",
   "execution_count": null,
   "id": "a79ca5ca-3512-4965-936c-6c9dead26dd2",
   "metadata": {},
   "outputs": [],
   "source": [
    "emptyList = []\n",
    "emptyList.append([1,2,3])\n",
    "emptyList"
   ]
  },
  {
   "cell_type": "markdown",
   "id": "30fbc41c-99b4-49fc-be60-b4b9a0640bae",
   "metadata": {
    "jp-MarkdownHeadingCollapsed": true
   },
   "source": [
    "### 2D"
   ]
  },
  {
   "cell_type": "code",
   "execution_count": null,
   "id": "c0eb9911-5ecb-4176-962b-03f17f4a9abe",
   "metadata": {},
   "outputs": [],
   "source": [
    "list2d = [[1,2,3],[4,5,6],[7,8,9],[10,11,12],[13,14,15]]\n",
    "list2d"
   ]
  },
  {
   "cell_type": "code",
   "execution_count": null,
   "id": "1c3b5234-e2f1-4084-8d72-94460d806644",
   "metadata": {},
   "outputs": [],
   "source": [
    "(rows, cols) = (5,5) \n",
    "arr = [[0]*cols]*rows\n",
    "arr"
   ]
  },
  {
   "cell_type": "code",
   "execution_count": null,
   "id": "f42886d5-c490-4bae-b73a-a3bd6bb45ce0",
   "metadata": {},
   "outputs": [],
   "source": [
    "(rows, cols) = (10,10) \n",
    "list2d = [[i*j for i in range(1,cols+1)] for j in range(1,rows+1)]\n",
    "list2d"
   ]
  },
  {
   "cell_type": "code",
   "execution_count": null,
   "id": "956c9ba0-6c6c-4c64-9b91-b0a7189548bf",
   "metadata": {},
   "outputs": [],
   "source": [
    "list2d[:][1:3]"
   ]
  },
  {
   "cell_type": "code",
   "execution_count": null,
   "id": "87960f1b-ea15-477d-8a90-79aff0dff460",
   "metadata": {},
   "outputs": [],
   "source": [
    "# Example 2D array (list of lists)\n",
    "twodim_array = [[1, 2, 3], [4, 5, 6], [7, 8, 9]]\n",
    "\n",
    "# Convert 2D array to a single list\n",
    "flat_list = [item for sublist in twodim_array for item in sublist]\n",
    "\n",
    "print(flat_list)"
   ]
  },
  {
   "cell_type": "markdown",
   "id": "cbe2cfc9-c00d-4afa-a90a-16f730319fa4",
   "metadata": {
    "jp-MarkdownHeadingCollapsed": true
   },
   "source": [
    "### 3D"
   ]
  },
  {
   "cell_type": "code",
   "execution_count": null,
   "id": "1d323b34-295f-4d1e-9135-25ac01e8d316",
   "metadata": {},
   "outputs": [],
   "source": [
    "list3d = [[[1,2,3],[4,5,6]],[[7,8,9],[10,11,12]]]\n",
    "list3d"
   ]
  },
  {
   "cell_type": "code",
   "execution_count": null,
   "id": "a97bda0c-8368-4be3-b15c-8edda88892db",
   "metadata": {},
   "outputs": [],
   "source": [
    "list3d[1][:][:]"
   ]
  },
  {
   "cell_type": "markdown",
   "id": "187c9cbe-dd42-4256-af80-69021892d4b6",
   "metadata": {
    "jp-MarkdownHeadingCollapsed": true
   },
   "source": [
    "## tuple"
   ]
  },
  {
   "cell_type": "markdown",
   "id": "ed072ee6-551f-4fbc-9f00-57cdb2187370",
   "metadata": {},
   "source": [
    "#### tuple is immutable"
   ]
  },
  {
   "cell_type": "code",
   "execution_count": null,
   "id": "1116a61f-6c1a-49b0-9d62-35e72ebf8c10",
   "metadata": {},
   "outputs": [],
   "source": [
    "t = (10,20,30)\n",
    "t"
   ]
  },
  {
   "cell_type": "code",
   "execution_count": null,
   "id": "d30c2841-c6e9-4451-948a-6128fe1face3",
   "metadata": {},
   "outputs": [],
   "source": [
    "t[-1]"
   ]
  },
  {
   "cell_type": "code",
   "execution_count": null,
   "id": "a0b1da27-485a-4abd-b051-3db2bc6001ab",
   "metadata": {},
   "outputs": [],
   "source": [
    "t[0] = 1"
   ]
  },
  {
   "cell_type": "markdown",
   "id": "84c1753f-b7b6-44d2-be6e-6854577126b5",
   "metadata": {
    "jp-MarkdownHeadingCollapsed": true
   },
   "source": [
    "## Dictionary"
   ]
  },
  {
   "cell_type": "code",
   "execution_count": null,
   "id": "68f6f213-4dfb-4694-899c-ec090a1b5198",
   "metadata": {},
   "outputs": [],
   "source": [
    "a = {\"k1\":1,\"k2\":2,\"k3\":3,\"k4\":4,\"k5\":5}\n",
    "print(type(a))\n",
    "print(a)"
   ]
  },
  {
   "cell_type": "code",
   "execution_count": null,
   "id": "f7b3bdf3-2689-47b7-9934-eb72921aa739",
   "metadata": {},
   "outputs": [],
   "source": [
    "a['k2']"
   ]
  },
  {
   "cell_type": "code",
   "execution_count": null,
   "id": "d6f3ef45-8041-4ef1-b657-6842ce3730cf",
   "metadata": {},
   "outputs": [],
   "source": [
    "for key,value in a.items():\n",
    "    print(f'key is {key} and value is {value}')"
   ]
  },
  {
   "cell_type": "code",
   "execution_count": null,
   "id": "2f54b6b0-505d-431d-a586-846c17e3e62e",
   "metadata": {},
   "outputs": [],
   "source": [
    "if 'k2' in a:\n",
    "    print(a['k2'])\n",
    "else :\n",
    "    print(\"no\")"
   ]
  },
  {
   "cell_type": "markdown",
   "id": "361045d4-4654-48a3-bfc9-4091834a801f",
   "metadata": {
    "jp-MarkdownHeadingCollapsed": true
   },
   "source": [
    "## Set"
   ]
  },
  {
   "cell_type": "code",
   "execution_count": null,
   "id": "ce8cfe0e-4177-4465-9710-63eb00bdf67f",
   "metadata": {},
   "outputs": [],
   "source": [
    "a = {1,2,3,4,5,6}\n",
    "print(type(a))\n",
    "print(a)"
   ]
  },
  {
   "cell_type": "code",
   "execution_count": null,
   "id": "cf43b279-016b-48df-830c-ba501161d2e1",
   "metadata": {},
   "outputs": [],
   "source": [
    "a = {1,2,3,4,5,6}\n",
    "a.add(7)\n",
    "print(a)"
   ]
  },
  {
   "cell_type": "markdown",
   "id": "2bddc30b-191e-4d99-825c-8a299801bf56",
   "metadata": {},
   "source": [
    "#### set is unique"
   ]
  },
  {
   "cell_type": "code",
   "execution_count": null,
   "id": "d08c6c57-e400-4150-9669-5b4876324049",
   "metadata": {},
   "outputs": [],
   "source": [
    "a = {1,1,1,2,3,5,5,4}\n",
    "a"
   ]
  }
 ],
 "metadata": {
  "kernelspec": {
   "display_name": "v1",
   "language": "python",
   "name": "v1"
  },
  "language_info": {
   "codemirror_mode": {
    "name": "ipython",
    "version": 3
   },
   "file_extension": ".py",
   "mimetype": "text/x-python",
   "name": "python",
   "nbconvert_exporter": "python",
   "pygments_lexer": "ipython3",
   "version": "3.12.4"
  }
 },
 "nbformat": 4,
 "nbformat_minor": 5
}
