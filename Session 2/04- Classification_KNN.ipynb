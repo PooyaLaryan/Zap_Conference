{
 "cells": [
  {
   "cell_type": "code",
   "execution_count": null,
   "id": "ac4c3ab1-1cf1-4d98-a84e-73fbd9923246",
   "metadata": {},
   "outputs": [],
   "source": [
    "from sklearn.neighbors import KNeighborsClassifier\n",
    "import matplotlib.pyplot as plt\n",
    "import numpy as np\n",
    "\n",
    "from dataset import load_hoda"
   ]
  },
  {
   "cell_type": "code",
   "execution_count": null,
   "id": "7bebf1d7-3213-4bff-8753-a8e6cbe6c0b1",
   "metadata": {},
   "outputs": [],
   "source": [
    "X_train, y_train, X_test, y_test = load_hoda()"
   ]
  },
  {
   "cell_type": "code",
   "execution_count": null,
   "id": "e9e53377-8cc3-4772-9b61-27ff039ca595",
   "metadata": {
    "scrolled": true
   },
   "outputs": [],
   "source": [
    "neigh = KNeighborsClassifier(n_neighbors=3)"
   ]
  },
  {
   "cell_type": "code",
   "execution_count": null,
   "id": "50bb7143-593b-425f-b728-20388736a869",
   "metadata": {},
   "outputs": [],
   "source": [
    "neigh.fit(X_train, y_train)"
   ]
  },
  {
   "cell_type": "code",
   "execution_count": null,
   "id": "17bab110-f980-46fa-8efc-af27c7c17d73",
   "metadata": {},
   "outputs": [],
   "source": [
    "neigh.predict([X_test[10]])"
   ]
  },
  {
   "cell_type": "code",
   "execution_count": null,
   "id": "20238b9a-39c2-4eb2-98a1-21df94ec72d9",
   "metadata": {},
   "outputs": [],
   "source": [
    "sample = np.expand_dims(X_test[10], axis=0)\n"
   ]
  },
  {
   "cell_type": "code",
   "execution_count": null,
   "id": "a324729b-9515-4e65-b2e3-f2c89247fb17",
   "metadata": {},
   "outputs": [],
   "source": [
    "sample.shape"
   ]
  },
  {
   "cell_type": "code",
   "execution_count": null,
   "id": "7369c8e4-2c11-4ab7-9bb0-7f7a911e2731",
   "metadata": {},
   "outputs": [],
   "source": [
    "neigh.predict(sample)"
   ]
  },
  {
   "cell_type": "code",
   "execution_count": null,
   "id": "0d455c42-7d4b-497b-88d3-133d3bb71dda",
   "metadata": {},
   "outputs": [],
   "source": [
    "sample = 25\n",
    "\n",
    "X = [X_test[sample]]\n",
    "\n",
    "predicted_class = neigh.predict(X)\n",
    "\n",
    "print (\"Sample {} is a {}, and you prediction is: {}.\".format(sample, y_test[sample], predicted_class[0]))"
   ]
  },
  {
   "cell_type": "code",
   "execution_count": null,
   "id": "4b95c2dd-6764-41ca-9260-4b8b37059983",
   "metadata": {},
   "outputs": [],
   "source": [
    "print(neigh.predict_proba(X))"
   ]
  },
  {
   "cell_type": "code",
   "execution_count": null,
   "id": "4b735a1e-96d6-4380-8d2a-fedb74c6b6c9",
   "metadata": {},
   "outputs": [],
   "source": [
    "pred_classes = neigh.predict(X_test)\n",
    "pred_classes"
   ]
  },
  {
   "cell_type": "code",
   "execution_count": null,
   "id": "fc934fe4-264c-4b74-85a3-8be92c11a686",
   "metadata": {},
   "outputs": [],
   "source": [
    "y_test"
   ]
  },
  {
   "cell_type": "code",
   "execution_count": null,
   "id": "de89ad37-a683-46fe-80e7-54787151abd0",
   "metadata": {},
   "outputs": [],
   "source": [
    "np.mean(pred_classes == y_test)"
   ]
  },
  {
   "cell_type": "code",
   "execution_count": null,
   "id": "fb8612b3-3f43-4689-a69b-cac064dee575",
   "metadata": {},
   "outputs": [],
   "source": [
    "acc = neigh.score(X_test, y_test)\n",
    "print (\"Accuracy is %.2f %%\" %(acc*100))"
   ]
  },
  {
   "cell_type": "code",
   "execution_count": null,
   "id": "7a44cc1a-49e6-4d53-ab63-00caeb1a775e",
   "metadata": {},
   "outputs": [],
   "source": []
  }
 ],
 "metadata": {
  "kernelspec": {
   "display_name": "v1",
   "language": "python",
   "name": "v1"
  },
  "language_info": {
   "codemirror_mode": {
    "name": "ipython",
    "version": 3
   },
   "file_extension": ".py",
   "mimetype": "text/x-python",
   "name": "python",
   "nbconvert_exporter": "python",
   "pygments_lexer": "ipython3",
   "version": "3.12.4"
  }
 },
 "nbformat": 4,
 "nbformat_minor": 5
}
